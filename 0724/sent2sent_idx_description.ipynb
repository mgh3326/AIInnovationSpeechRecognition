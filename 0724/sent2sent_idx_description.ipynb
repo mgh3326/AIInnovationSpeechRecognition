{
 "cells": [
  {
   "cell_type": "code",
   "execution_count": 1,
   "metadata": {},
   "outputs": [],
   "source": [
    "text=\"\"\"A barber is a person. \n",
    "a barber is good person. \n",
    "a barber is huge person. \n",
    "he Knew A Secret! \n",
    "The Secret He Kept is huge secret. \n",
    "Huge secret. \n",
    "His barber kept his word. \n",
    "a barber kept his word. \n",
    "His barber kept his secret. \n",
    "But keeping and keeping such a huge secret to himself was driving the barber crazy. \n",
    "the barber went up a huge mountain.\"\"\""
   ]
  },
  {
   "cell_type": "code",
   "execution_count": 2,
   "metadata": {},
   "outputs": [],
   "source": [
    "# 목표 1: Word Seq --> Word-ID Seq\n",
    "\n",
    "## 세부목표 1: 문장을 토큰화\n",
    "## 세부목표 2: 단어 Set 및 아이디 부여\n",
    "## 세부목표 3: Word Seq --> Word-ID Seq"
   ]
  },
  {
   "cell_type": "code",
   "execution_count": 6,
   "metadata": {},
   "outputs": [
    {
     "name": "stdout",
     "output_type": "stream",
     "text": [
      "A barber is a person . \n",
      "a barber is good person . \n",
      "a barber is huge person . \n",
      "he Knew A Secret ! \n",
      "The Secret He Kept is huge secret . \n",
      "Huge secret . \n",
      "His barber kept his word . \n",
      "a barber kept his word . \n",
      "His barber kept his secret . \n",
      "But keeping and keeping such a huge secret to himself was driving the barber crazy . \n",
      "the barber went up a huge mountain .\n"
     ]
    }
   ],
   "source": [
    "print(text.replace(\".\", \" .\").replace(\"!\", \" !\"))"
   ]
  },
  {
   "cell_type": "code",
   "execution_count": 4,
   "metadata": {},
   "outputs": [
    {
     "name": "stdout",
     "output_type": "stream",
     "text": [
      "['A barber is a person. ', 'a barber is good person. ', 'a barber is huge person. ', 'he Knew A Secret! ', 'The Secret He Kept is huge secret. ', 'Huge secret. ', 'His barber kept his word. ', 'a barber kept his word. ', 'His barber kept his secret. ', 'But keeping and keeping such a huge secret to himself was driving the barber crazy. ', 'the barber went up a huge mountain.']\n"
     ]
    }
   ],
   "source": [
    "token = text.replace(\".\", \" .\").split('\\n')\n",
    "print(token)\n",
    "\n"
   ]
  },
  {
   "cell_type": "code",
   "execution_count": 22,
   "metadata": {},
   "outputs": [],
   "source": [
    "text_ = text.replace(\".\", \" .\").replace(\"!\", \" !\")\n",
    "text_ = text_.strip()"
   ]
  },
  {
   "cell_type": "code",
   "execution_count": 30,
   "metadata": {},
   "outputs": [],
   "source": [
    "text_sent = text_.lower().split('\\n')\n",
    "# print(text_sent)"
   ]
  },
  {
   "cell_type": "code",
   "execution_count": 31,
   "metadata": {},
   "outputs": [
    {
     "name": "stdout",
     "output_type": "stream",
     "text": [
      "[['a', 'barber', 'is', 'a', 'person', '.'], ['a', 'barber', 'is', 'good', 'person', '.'], ['a', 'barber', 'is', 'huge', 'person', '.'], ['he', 'knew', 'a', 'secret', '!'], ['the', 'secret', 'he', 'kept', 'is', 'huge', 'secret', '.'], ['huge', 'secret', '.'], ['his', 'barber', 'kept', 'his', 'word', '.'], ['a', 'barber', 'kept', 'his', 'word', '.'], ['his', 'barber', 'kept', 'his', 'secret', '.'], ['but', 'keeping', 'and', 'keeping', 'such', 'a', 'huge', 'secret', 'to', 'himself', 'was', 'driving', 'the', 'barber', 'crazy', '.'], ['the', 'barber', 'went', 'up', 'a', 'huge', 'mountain', '.']]\n"
     ]
    }
   ],
   "source": [
    "sent = []\n",
    "\n",
    "for s in text_sent:\n",
    "    word_seq = s.split()\n",
    "    sent.append(word_seq)\n",
    "    # print(word_seq)\n",
    "\n",
    "print(sent)"
   ]
  },
  {
   "cell_type": "code",
   "execution_count": 32,
   "metadata": {},
   "outputs": [
    {
     "name": "stdout",
     "output_type": "stream",
     "text": [
      "{'a': 8, 'barber': 8, 'is': 4, 'person': 3, '.': 10, 'good': 1, 'huge': 5, 'he': 2, 'knew': 1, 'secret': 6, '!': 1, 'the': 3, 'kept': 4, 'his': 5, 'word': 2, 'but': 1, 'keeping': 2, 'and': 1, 'such': 1, 'to': 1, 'himself': 1, 'was': 1, 'driving': 1, 'crazy': 1, 'went': 1, 'up': 1, 'mountain': 1}\n"
     ]
    }
   ],
   "source": [
    "count_dict = {}\n",
    "\n",
    "for s in sent:\n",
    "    for w in s:\n",
    "        if w not in count_dict:\n",
    "            count_dict[w] = 1\n",
    "        else:\n",
    "            count_dict[w] += 1\n",
    "\n",
    "print(count_dict)"
   ]
  },
  {
   "cell_type": "code",
   "execution_count": 34,
   "metadata": {},
   "outputs": [
    {
     "name": "stdout",
     "output_type": "stream",
     "text": [
      "dict_items([('a', 8), ('barber', 8), ('is', 4), ('person', 3), ('.', 10), ('good', 1), ('huge', 5), ('he', 2), ('knew', 1), ('secret', 6), ('!', 1), ('the', 3), ('kept', 4), ('his', 5), ('word', 2), ('but', 1), ('keeping', 2), ('and', 1), ('such', 1), ('to', 1), ('himself', 1), ('was', 1), ('driving', 1), ('crazy', 1), ('went', 1), ('up', 1), ('mountain', 1)])\n"
     ]
    }
   ],
   "source": [
    "print(count_dict.items())"
   ]
  },
  {
   "cell_type": "markdown",
   "metadata": {},
   "source": [
    "vocab_sorted=sorted(count_dict.items(), key=lambda x:x[1], reverse=True)\n",
    "print(vocab_sorted)"
   ]
  },
  {
   "cell_type": "code",
   "execution_count": 33,
   "metadata": {},
   "outputs": [
    {
     "name": "stdout",
     "output_type": "stream",
     "text": [
      "[('.', 10), ('a', 8), ('barber', 8), ('secret', 6), ('huge', 5), ('his', 5), ('is', 4), ('kept', 4), ('person', 3), ('the', 3), ('he', 2), ('word', 2), ('keeping', 2), ('good', 1), ('knew', 1), ('!', 1), ('but', 1), ('and', 1), ('such', 1), ('to', 1), ('himself', 1), ('was', 1), ('driving', 1), ('crazy', 1), ('went', 1), ('up', 1), ('mountain', 1)]\n"
     ]
    }
   ],
   "source": [
    "vocab_sorted=sorted(count_dict.items(), key=lambda x:x[1], reverse=True)\n",
    "print(vocab_sorted)"
   ]
  },
  {
   "cell_type": "code",
   "execution_count": 54,
   "metadata": {},
   "outputs": [
    {
     "name": "stdout",
     "output_type": "stream",
     "text": [
      "{'.': 1, 'a': 2, 'barber': 3, 'secret': 4, 'huge': 5, 'his': 6, 'is': 7, 'kept': 8, 'person': 9, 'the': 10, 'he': 11, 'word': 12, 'keeping': 13, 'good': 14, 'knew': 15, '!': 16, 'but': 17, 'and': 18, 'such': 19, 'to': 20, 'himself': 21, 'was': 22, 'driving': 23, 'crazy': 24, 'went': 25, 'up': 26, 'mountain': 27}\n"
     ]
    }
   ],
   "source": [
    "vocab_dict = {}\n",
    "\n",
    "for idx, (word, word_count) in enumerate(vocab_sorted):\n",
    "    # print(word, word_count)\n",
    "    vocab_dict[word] = idx+1\n",
    "\n",
    "print(vocab_dict)"
   ]
  },
  {
   "cell_type": "code",
   "execution_count": 55,
   "metadata": {},
   "outputs": [
    {
     "name": "stdout",
     "output_type": "stream",
     "text": [
      "[0, 0, 0, 0, 0, 0, 0, 0, 0, 0, 0, 0, 1, 0, 0, 0, 0, 0, 0, 0, 0, 0, 0, 0, 0, 0, 0]\n"
     ]
    }
   ],
   "source": [
    "a = [0]*27\n",
    "a[12] = 1\n",
    "print(a)"
   ]
  },
  {
   "cell_type": "code",
   "execution_count": 56,
   "metadata": {},
   "outputs": [
    {
     "name": "stdout",
     "output_type": "stream",
     "text": [
      "[0, 0, 0, 0, 0, 0, 0, 0, 0, 0, 0, 0, 0, 1, 0, 0, 0, 0, 0, 0, 0, 0, 0, 0, 0, 0, 0]\n"
     ]
    }
   ],
   "source": [
    "b = [0]*27\n",
    "b[vocab_dict['keeping']] = 1\n",
    "print(b)"
   ]
  },
  {
   "cell_type": "code",
   "execution_count": 57,
   "metadata": {},
   "outputs": [
    {
     "data": {
      "text/plain": [
       "False"
      ]
     },
     "execution_count": 57,
     "metadata": {},
     "output_type": "execute_result"
    }
   ],
   "source": [
    "a == b"
   ]
  },
  {
   "cell_type": "code",
   "execution_count": 58,
   "metadata": {},
   "outputs": [
    {
     "name": "stdout",
     "output_type": "stream",
     "text": [
      "s_id : a 2 [2]\n",
      "s_id : barber 3 [2, 3]\n",
      "s_id : is 7 [2, 3, 7]\n",
      "s_id : a 2 [2, 3, 7, 2]\n",
      "s_id : person 9 [2, 3, 7, 2, 9]\n",
      "s_id : . 1 [2, 3, 7, 2, 9, 1]\n",
      "\n",
      "s_id : a 2 [2]\n",
      "s_id : barber 3 [2, 3]\n",
      "s_id : is 7 [2, 3, 7]\n",
      "s_id : good 14 [2, 3, 7, 14]\n",
      "s_id : person 9 [2, 3, 7, 14, 9]\n",
      "s_id : . 1 [2, 3, 7, 14, 9, 1]\n",
      "\n",
      "s_id : a 2 [2]\n",
      "s_id : barber 3 [2, 3]\n",
      "s_id : is 7 [2, 3, 7]\n",
      "s_id : huge 5 [2, 3, 7, 5]\n",
      "s_id : person 9 [2, 3, 7, 5, 9]\n",
      "s_id : . 1 [2, 3, 7, 5, 9, 1]\n",
      "\n",
      "s_id : he 11 [11]\n",
      "s_id : knew 15 [11, 15]\n",
      "s_id : a 2 [11, 15, 2]\n",
      "s_id : secret 4 [11, 15, 2, 4]\n",
      "s_id : ! 16 [11, 15, 2, 4, 16]\n",
      "\n",
      "s_id : the 10 [10]\n",
      "s_id : secret 4 [10, 4]\n",
      "s_id : he 11 [10, 4, 11]\n",
      "s_id : kept 8 [10, 4, 11, 8]\n",
      "s_id : is 7 [10, 4, 11, 8, 7]\n",
      "s_id : huge 5 [10, 4, 11, 8, 7, 5]\n",
      "s_id : secret 4 [10, 4, 11, 8, 7, 5, 4]\n",
      "s_id : . 1 [10, 4, 11, 8, 7, 5, 4, 1]\n",
      "\n",
      "s_id : huge 5 [5]\n",
      "s_id : secret 4 [5, 4]\n",
      "s_id : . 1 [5, 4, 1]\n",
      "\n",
      "s_id : his 6 [6]\n",
      "s_id : barber 3 [6, 3]\n",
      "s_id : kept 8 [6, 3, 8]\n",
      "s_id : his 6 [6, 3, 8, 6]\n",
      "s_id : word 12 [6, 3, 8, 6, 12]\n",
      "s_id : . 1 [6, 3, 8, 6, 12, 1]\n",
      "\n",
      "s_id : a 2 [2]\n",
      "s_id : barber 3 [2, 3]\n",
      "s_id : kept 8 [2, 3, 8]\n",
      "s_id : his 6 [2, 3, 8, 6]\n",
      "s_id : word 12 [2, 3, 8, 6, 12]\n",
      "s_id : . 1 [2, 3, 8, 6, 12, 1]\n",
      "\n",
      "s_id : his 6 [6]\n",
      "s_id : barber 3 [6, 3]\n",
      "s_id : kept 8 [6, 3, 8]\n",
      "s_id : his 6 [6, 3, 8, 6]\n",
      "s_id : secret 4 [6, 3, 8, 6, 4]\n",
      "s_id : . 1 [6, 3, 8, 6, 4, 1]\n",
      "\n",
      "s_id : but 17 [17]\n",
      "s_id : keeping 13 [17, 13]\n",
      "s_id : and 18 [17, 13, 18]\n",
      "s_id : keeping 13 [17, 13, 18, 13]\n",
      "s_id : such 19 [17, 13, 18, 13, 19]\n",
      "s_id : a 2 [17, 13, 18, 13, 19, 2]\n",
      "s_id : huge 5 [17, 13, 18, 13, 19, 2, 5]\n",
      "s_id : secret 4 [17, 13, 18, 13, 19, 2, 5, 4]\n",
      "s_id : to 20 [17, 13, 18, 13, 19, 2, 5, 4, 20]\n",
      "s_id : himself 21 [17, 13, 18, 13, 19, 2, 5, 4, 20, 21]\n",
      "s_id : was 22 [17, 13, 18, 13, 19, 2, 5, 4, 20, 21, 22]\n",
      "s_id : driving 23 [17, 13, 18, 13, 19, 2, 5, 4, 20, 21, 22, 23]\n",
      "s_id : the 10 [17, 13, 18, 13, 19, 2, 5, 4, 20, 21, 22, 23, 10]\n",
      "s_id : barber 3 [17, 13, 18, 13, 19, 2, 5, 4, 20, 21, 22, 23, 10, 3]\n",
      "s_id : crazy 24 [17, 13, 18, 13, 19, 2, 5, 4, 20, 21, 22, 23, 10, 3, 24]\n",
      "s_id : . 1 [17, 13, 18, 13, 19, 2, 5, 4, 20, 21, 22, 23, 10, 3, 24, 1]\n",
      "\n",
      "s_id : the 10 [10]\n",
      "s_id : barber 3 [10, 3]\n",
      "s_id : went 25 [10, 3, 25]\n",
      "s_id : up 26 [10, 3, 25, 26]\n",
      "s_id : a 2 [10, 3, 25, 26, 2]\n",
      "s_id : huge 5 [10, 3, 25, 26, 2, 5]\n",
      "s_id : mountain 27 [10, 3, 25, 26, 2, 5, 27]\n",
      "s_id : . 1 [10, 3, 25, 26, 2, 5, 27, 1]\n",
      "\n"
     ]
    }
   ],
   "source": [
    "sent_idx = []\n",
    "\n",
    "for s in sent:\n",
    "    s_id = []\n",
    "    for w in s:\n",
    "        w_id = vocab_dict[w]\n",
    "        s_id.append(w_id)\n",
    "        print(\"s_id :\", w, w_id, s_id)\n",
    "    sent_idx.append(s_id)\n",
    "    print()\n",
    "\n",
    "# print(sent_idx)\n",
    "    "
   ]
  },
  {
   "cell_type": "code",
   "execution_count": 59,
   "metadata": {},
   "outputs": [
    {
     "name": "stdout",
     "output_type": "stream",
     "text": [
      "['a', 'barber', 'is', 'a', 'person', '.']\n",
      "[2, 3, 7, 2, 9, 1]\n",
      "\n",
      "['a', 'barber', 'is', 'good', 'person', '.']\n",
      "[2, 3, 7, 14, 9, 1]\n",
      "\n",
      "['a', 'barber', 'is', 'huge', 'person', '.']\n",
      "[2, 3, 7, 5, 9, 1]\n",
      "\n",
      "['he', 'knew', 'a', 'secret', '!']\n",
      "[11, 15, 2, 4, 16]\n",
      "\n",
      "['the', 'secret', 'he', 'kept', 'is', 'huge', 'secret', '.']\n",
      "[10, 4, 11, 8, 7, 5, 4, 1]\n",
      "\n",
      "['huge', 'secret', '.']\n",
      "[5, 4, 1]\n",
      "\n",
      "['his', 'barber', 'kept', 'his', 'word', '.']\n",
      "[6, 3, 8, 6, 12, 1]\n",
      "\n",
      "['a', 'barber', 'kept', 'his', 'word', '.']\n",
      "[2, 3, 8, 6, 12, 1]\n",
      "\n",
      "['his', 'barber', 'kept', 'his', 'secret', '.']\n",
      "[6, 3, 8, 6, 4, 1]\n",
      "\n",
      "['but', 'keeping', 'and', 'keeping', 'such', 'a', 'huge', 'secret', 'to', 'himself', 'was', 'driving', 'the', 'barber', 'crazy', '.']\n",
      "[17, 13, 18, 13, 19, 2, 5, 4, 20, 21, 22, 23, 10, 3, 24, 1]\n",
      "\n",
      "['the', 'barber', 'went', 'up', 'a', 'huge', 'mountain', '.']\n",
      "[10, 3, 25, 26, 2, 5, 27, 1]\n",
      "\n"
     ]
    }
   ],
   "source": [
    "for s, s_idx in zip(sent, sent_idx):\n",
    "    print(s)\n",
    "    print(s_idx)\n",
    "    print()"
   ]
  },
  {
   "cell_type": "code",
   "execution_count": 60,
   "metadata": {},
   "outputs": [
    {
     "name": "stdout",
     "output_type": "stream",
     "text": [
      "[6, 6, 6, 5, 8, 3, 6, 6, 6, 16, 8]\n"
     ]
    }
   ],
   "source": [
    "lengths = []\n",
    "for s in sent_idx:\n",
    "    len_sent = len(s)\n",
    "    lengths.append(len_sent)\n",
    "    \n",
    "print(lengths)\n",
    "    "
   ]
  },
  {
   "cell_type": "code",
   "execution_count": 61,
   "metadata": {},
   "outputs": [
    {
     "name": "stdout",
     "output_type": "stream",
     "text": [
      "16\n"
     ]
    }
   ],
   "source": [
    "max_length = max(lengths)\n",
    "print(max_length)"
   ]
  },
  {
   "cell_type": "code",
   "execution_count": 62,
   "metadata": {},
   "outputs": [
    {
     "name": "stdout",
     "output_type": "stream",
     "text": [
      "16\n"
     ]
    }
   ],
   "source": [
    "max_length = 0\n",
    "for s in sent_idx:\n",
    "    len_sent = len(s)\n",
    "    if len_sent > max_length:\n",
    "        max_length = len_sent\n",
    "    \n",
    "print(max_length)"
   ]
  },
  {
   "cell_type": "code",
   "execution_count": 65,
   "metadata": {},
   "outputs": [
    {
     "name": "stdout",
     "output_type": "stream",
     "text": [
      "[[2, 3, 7, 2, 9, 1, 0, 0, 0, 0, 0, 0, 0, 0, 0, 0], [2, 3, 7, 14, 9, 1, 0, 0, 0, 0, 0, 0, 0, 0, 0, 0], [2, 3, 7, 5, 9, 1, 0, 0, 0, 0, 0, 0, 0, 0, 0, 0], [11, 15, 2, 4, 16, 0, 0, 0, 0, 0, 0, 0, 0, 0, 0, 0], [10, 4, 11, 8, 7, 5, 4, 1, 0, 0, 0, 0, 0, 0, 0, 0], [5, 4, 1, 0, 0, 0, 0, 0, 0, 0, 0, 0, 0, 0, 0, 0], [6, 3, 8, 6, 12, 1, 0, 0, 0, 0, 0, 0, 0, 0, 0, 0], [2, 3, 8, 6, 12, 1, 0, 0, 0, 0, 0, 0, 0, 0, 0, 0], [6, 3, 8, 6, 4, 1, 0, 0, 0, 0, 0, 0, 0, 0, 0, 0], [17, 13, 18, 13, 19, 2, 5, 4, 20, 21, 22, 23, 10, 3, 24, 1], [10, 3, 25, 26, 2, 5, 27, 1, 0, 0, 0, 0, 0, 0, 0, 0]]\n"
     ]
    }
   ],
   "source": [
    "sent_idx_zeropadded = []\n",
    "\n",
    "for s in sent_idx:\n",
    "    # print(s)\n",
    "    temp = [0]*max_length\n",
    "    for idx, w_id in enumerate(s):\n",
    "        temp[idx] = s[idx]\n",
    "    # print(temp)\n",
    "    sent_idx_zeropadded.append(temp)\n",
    "    # break\n",
    "\n",
    "print(sent_idx_zeropadded)\n",
    "        "
   ]
  },
  {
   "cell_type": "code",
   "execution_count": null,
   "metadata": {},
   "outputs": [],
   "source": []
  }
 ],
 "metadata": {
  "kernelspec": {
   "display_name": "Python 3",
   "language": "python",
   "name": "python3"
  },
  "language_info": {
   "codemirror_mode": {
    "name": "ipython",
    "version": 3
   },
   "file_extension": ".py",
   "mimetype": "text/x-python",
   "name": "python",
   "nbconvert_exporter": "python",
   "pygments_lexer": "ipython3",
   "version": "3.6.8"
  }
 },
 "nbformat": 4,
 "nbformat_minor": 2
}
